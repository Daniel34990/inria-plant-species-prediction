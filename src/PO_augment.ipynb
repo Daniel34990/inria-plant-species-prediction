{
 "cells": [
  {
   "cell_type": "code",
   "execution_count": 4,
   "id": "e41873f3-b3fe-40d0-8d71-3611b1f9d3f8",
   "metadata": {},
   "outputs": [],
   "source": [
    "import pandas as pd\n",
    "\n",
    "file_path = \"/home/dakbarin/data/data/GEOLIFECLEF/GLC24-PO-metadata-train.csv\"\n",
    "df = pd.read_csv(file_path)\n",
    "\n",
    "# Arrondir les valeurs de lat et lon à 1 chiffre après la virgule\n",
    "df['lat_rounded'] = df['lat'].round(1)\n",
    "df['lon_rounded'] = df['lon'].round(1)\n",
    "\n",
    "# Grouper les enregistrements par latitudes et longitudes arrondies\n",
    "grouped_df = df.groupby(['lat_rounded', 'lon_rounded']).agg(list).reset_index()\n",
    "\n",
    "# Affichage du nouveau DataFrame\n",
    "grouped_df.to_csv(\"PO_grouped.csv\", index=False)\n"
   ]
  }
 ],
 "metadata": {
  "kernelspec": {
   "display_name": "Python 3 (ipykernel)",
   "language": "python",
   "name": "python3"
  },
  "language_info": {
   "codemirror_mode": {
    "name": "ipython",
    "version": 3
   },
   "file_extension": ".py",
   "mimetype": "text/x-python",
   "name": "python",
   "nbconvert_exporter": "python",
   "pygments_lexer": "ipython3",
   "version": "3.9.7"
  }
 },
 "nbformat": 4,
 "nbformat_minor": 5
}
